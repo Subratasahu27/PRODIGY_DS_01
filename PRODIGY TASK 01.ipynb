{
 "cells": [
  {
   "cell_type": "code",
   "execution_count": 7,
   "id": "a60b2e90",
   "metadata": {},
   "outputs": [
    {
     "data": {
      "text/html": [
       "<div>\n",
       "<style scoped>\n",
       "    .dataframe tbody tr th:only-of-type {\n",
       "        vertical-align: middle;\n",
       "    }\n",
       "\n",
       "    .dataframe tbody tr th {\n",
       "        vertical-align: top;\n",
       "    }\n",
       "\n",
       "    .dataframe thead th {\n",
       "        text-align: right;\n",
       "    }\n",
       "</style>\n",
       "<table border=\"1\" class=\"dataframe\">\n",
       "  <thead>\n",
       "    <tr style=\"text-align: right;\">\n",
       "      <th></th>\n",
       "      <th>Student ID</th>\n",
       "      <th>Age</th>\n",
       "      <th>Gender</th>\n",
       "      <th>Height</th>\n",
       "      <th>Weight</th>\n",
       "      <th>Blood Type</th>\n",
       "      <th>BMI</th>\n",
       "      <th>Temperature</th>\n",
       "      <th>Heart Rate</th>\n",
       "      <th>Blood Pressure</th>\n",
       "      <th>Cholesterol</th>\n",
       "      <th>Diabetes</th>\n",
       "      <th>Smoking</th>\n",
       "    </tr>\n",
       "  </thead>\n",
       "  <tbody>\n",
       "    <tr>\n",
       "      <th>0</th>\n",
       "      <td>1.0</td>\n",
       "      <td>18.0</td>\n",
       "      <td>Female</td>\n",
       "      <td>161.777924</td>\n",
       "      <td>72.354947</td>\n",
       "      <td>O</td>\n",
       "      <td>27.645835</td>\n",
       "      <td>NaN</td>\n",
       "      <td>95.0</td>\n",
       "      <td>109.0</td>\n",
       "      <td>203.0</td>\n",
       "      <td>No</td>\n",
       "      <td>NaN</td>\n",
       "    </tr>\n",
       "    <tr>\n",
       "      <th>1</th>\n",
       "      <td>2.0</td>\n",
       "      <td>NaN</td>\n",
       "      <td>Male</td>\n",
       "      <td>152.069157</td>\n",
       "      <td>47.630941</td>\n",
       "      <td>B</td>\n",
       "      <td>NaN</td>\n",
       "      <td>98.714977</td>\n",
       "      <td>93.0</td>\n",
       "      <td>104.0</td>\n",
       "      <td>163.0</td>\n",
       "      <td>No</td>\n",
       "      <td>No</td>\n",
       "    </tr>\n",
       "    <tr>\n",
       "      <th>2</th>\n",
       "      <td>3.0</td>\n",
       "      <td>32.0</td>\n",
       "      <td>Female</td>\n",
       "      <td>182.537664</td>\n",
       "      <td>55.741083</td>\n",
       "      <td>A</td>\n",
       "      <td>16.729017</td>\n",
       "      <td>98.260293</td>\n",
       "      <td>76.0</td>\n",
       "      <td>130.0</td>\n",
       "      <td>216.0</td>\n",
       "      <td>Yes</td>\n",
       "      <td>No</td>\n",
       "    </tr>\n",
       "    <tr>\n",
       "      <th>3</th>\n",
       "      <td>NaN</td>\n",
       "      <td>30.0</td>\n",
       "      <td>Male</td>\n",
       "      <td>182.112867</td>\n",
       "      <td>63.332207</td>\n",
       "      <td>B</td>\n",
       "      <td>19.096042</td>\n",
       "      <td>98.839605</td>\n",
       "      <td>99.0</td>\n",
       "      <td>112.0</td>\n",
       "      <td>141.0</td>\n",
       "      <td>No</td>\n",
       "      <td>Yes</td>\n",
       "    </tr>\n",
       "    <tr>\n",
       "      <th>4</th>\n",
       "      <td>5.0</td>\n",
       "      <td>23.0</td>\n",
       "      <td>Female</td>\n",
       "      <td>NaN</td>\n",
       "      <td>46.234173</td>\n",
       "      <td>O</td>\n",
       "      <td>NaN</td>\n",
       "      <td>98.480008</td>\n",
       "      <td>95.0</td>\n",
       "      <td>NaN</td>\n",
       "      <td>231.0</td>\n",
       "      <td>No</td>\n",
       "      <td>No</td>\n",
       "    </tr>\n",
       "    <tr>\n",
       "      <th>...</th>\n",
       "      <td>...</td>\n",
       "      <td>...</td>\n",
       "      <td>...</td>\n",
       "      <td>...</td>\n",
       "      <td>...</td>\n",
       "      <td>...</td>\n",
       "      <td>...</td>\n",
       "      <td>...</td>\n",
       "      <td>...</td>\n",
       "      <td>...</td>\n",
       "      <td>...</td>\n",
       "      <td>...</td>\n",
       "      <td>...</td>\n",
       "    </tr>\n",
       "    <tr>\n",
       "      <th>199995</th>\n",
       "      <td>NaN</td>\n",
       "      <td>24.0</td>\n",
       "      <td>Male</td>\n",
       "      <td>176.503260</td>\n",
       "      <td>95.756997</td>\n",
       "      <td>B</td>\n",
       "      <td>30.737254</td>\n",
       "      <td>99.170685</td>\n",
       "      <td>65.0</td>\n",
       "      <td>121.0</td>\n",
       "      <td>130.0</td>\n",
       "      <td>No</td>\n",
       "      <td>No</td>\n",
       "    </tr>\n",
       "    <tr>\n",
       "      <th>199996</th>\n",
       "      <td>99997.0</td>\n",
       "      <td>29.0</td>\n",
       "      <td>Female</td>\n",
       "      <td>163.917675</td>\n",
       "      <td>45.225194</td>\n",
       "      <td>NaN</td>\n",
       "      <td>16.831734</td>\n",
       "      <td>97.865785</td>\n",
       "      <td>62.0</td>\n",
       "      <td>125.0</td>\n",
       "      <td>198.0</td>\n",
       "      <td>No</td>\n",
       "      <td>Yes</td>\n",
       "    </tr>\n",
       "    <tr>\n",
       "      <th>199997</th>\n",
       "      <td>99998.0</td>\n",
       "      <td>34.0</td>\n",
       "      <td>Female</td>\n",
       "      <td>NaN</td>\n",
       "      <td>99.648914</td>\n",
       "      <td>NaN</td>\n",
       "      <td>33.189303</td>\n",
       "      <td>98.768210</td>\n",
       "      <td>60.0</td>\n",
       "      <td>90.0</td>\n",
       "      <td>154.0</td>\n",
       "      <td>NaN</td>\n",
       "      <td>No</td>\n",
       "    </tr>\n",
       "    <tr>\n",
       "      <th>199998</th>\n",
       "      <td>99999.0</td>\n",
       "      <td>30.0</td>\n",
       "      <td>Female</td>\n",
       "      <td>156.446944</td>\n",
       "      <td>50.142824</td>\n",
       "      <td>A</td>\n",
       "      <td>20.486823</td>\n",
       "      <td>98.994212</td>\n",
       "      <td>61.0</td>\n",
       "      <td>106.0</td>\n",
       "      <td>225.0</td>\n",
       "      <td>No</td>\n",
       "      <td>No</td>\n",
       "    </tr>\n",
       "    <tr>\n",
       "      <th>199999</th>\n",
       "      <td>100000.0</td>\n",
       "      <td>20.0</td>\n",
       "      <td>Female</td>\n",
       "      <td>153.927409</td>\n",
       "      <td>99.928405</td>\n",
       "      <td>O</td>\n",
       "      <td>42.175189</td>\n",
       "      <td>98.595817</td>\n",
       "      <td>95.0</td>\n",
       "      <td>133.0</td>\n",
       "      <td>132.0</td>\n",
       "      <td>NaN</td>\n",
       "      <td>No</td>\n",
       "    </tr>\n",
       "  </tbody>\n",
       "</table>\n",
       "<p>200000 rows × 13 columns</p>\n",
       "</div>"
      ],
      "text/plain": [
       "        Student ID   Age  Gender      Height     Weight  ... Heart Rate  Blood Pressure  Cholesterol  Diabetes  Smoking\n",
       "0              1.0  18.0  Female  161.777924  72.354947  ...       95.0           109.0        203.0        No      NaN\n",
       "1              2.0   NaN    Male  152.069157  47.630941  ...       93.0           104.0        163.0        No       No\n",
       "2              3.0  32.0  Female  182.537664  55.741083  ...       76.0           130.0        216.0       Yes       No\n",
       "3              NaN  30.0    Male  182.112867  63.332207  ...       99.0           112.0        141.0        No      Yes\n",
       "4              5.0  23.0  Female         NaN  46.234173  ...       95.0             NaN        231.0        No       No\n",
       "...            ...   ...     ...         ...        ...  ...        ...             ...          ...       ...      ...\n",
       "199995         NaN  24.0    Male  176.503260  95.756997  ...       65.0           121.0        130.0        No       No\n",
       "199996     99997.0  29.0  Female  163.917675  45.225194  ...       62.0           125.0        198.0        No      Yes\n",
       "199997     99998.0  34.0  Female         NaN  99.648914  ...       60.0            90.0        154.0       NaN       No\n",
       "199998     99999.0  30.0  Female  156.446944  50.142824  ...       61.0           106.0        225.0        No       No\n",
       "199999    100000.0  20.0  Female  153.927409  99.928405  ...       95.0           133.0        132.0       NaN       No\n",
       "\n",
       "[200000 rows x 13 columns]"
      ]
     },
     "execution_count": 7,
     "metadata": {},
     "output_type": "execute_result"
    }
   ],
   "source": [
    "import pandas as pd #Import the dataset from kaggle\n",
    "import numpy as np\n",
    "import matplotlib.pyplot as plt\n",
    "data=pd.read_csv(\"C:/Users/91740/OneDrive/Desktop/PRODIGY INTERNSHIP/TASK 1/medical_students_dataset.csv\")\n",
    "data"
   ]
  },
  {
   "cell_type": "code",
   "execution_count": 2,
   "id": "aabfef43",
   "metadata": {},
   "outputs": [
    {
     "data": {
      "text/html": [
       "<div>\n",
       "<style scoped>\n",
       "    .dataframe tbody tr th:only-of-type {\n",
       "        vertical-align: middle;\n",
       "    }\n",
       "\n",
       "    .dataframe tbody tr th {\n",
       "        vertical-align: top;\n",
       "    }\n",
       "\n",
       "    .dataframe thead th {\n",
       "        text-align: right;\n",
       "    }\n",
       "</style>\n",
       "<table border=\"1\" class=\"dataframe\">\n",
       "  <thead>\n",
       "    <tr style=\"text-align: right;\">\n",
       "      <th></th>\n",
       "      <th>Student ID</th>\n",
       "      <th>Age</th>\n",
       "      <th>Gender</th>\n",
       "      <th>Height</th>\n",
       "      <th>Weight</th>\n",
       "      <th>Blood Type</th>\n",
       "      <th>BMI</th>\n",
       "      <th>Temperature</th>\n",
       "      <th>Heart Rate</th>\n",
       "      <th>Blood Pressure</th>\n",
       "      <th>Cholesterol</th>\n",
       "      <th>Diabetes</th>\n",
       "      <th>Smoking</th>\n",
       "    </tr>\n",
       "  </thead>\n",
       "  <tbody>\n",
       "    <tr>\n",
       "      <th>0</th>\n",
       "      <td>1.0</td>\n",
       "      <td>18.0</td>\n",
       "      <td>Female</td>\n",
       "      <td>161.777924</td>\n",
       "      <td>72.354947</td>\n",
       "      <td>O</td>\n",
       "      <td>27.645835</td>\n",
       "      <td>NaN</td>\n",
       "      <td>95.0</td>\n",
       "      <td>109.0</td>\n",
       "      <td>203.0</td>\n",
       "      <td>No</td>\n",
       "      <td>NaN</td>\n",
       "    </tr>\n",
       "    <tr>\n",
       "      <th>1</th>\n",
       "      <td>2.0</td>\n",
       "      <td>NaN</td>\n",
       "      <td>Male</td>\n",
       "      <td>152.069157</td>\n",
       "      <td>47.630941</td>\n",
       "      <td>B</td>\n",
       "      <td>NaN</td>\n",
       "      <td>98.714977</td>\n",
       "      <td>93.0</td>\n",
       "      <td>104.0</td>\n",
       "      <td>163.0</td>\n",
       "      <td>No</td>\n",
       "      <td>No</td>\n",
       "    </tr>\n",
       "    <tr>\n",
       "      <th>2</th>\n",
       "      <td>3.0</td>\n",
       "      <td>32.0</td>\n",
       "      <td>Female</td>\n",
       "      <td>182.537664</td>\n",
       "      <td>55.741083</td>\n",
       "      <td>A</td>\n",
       "      <td>16.729017</td>\n",
       "      <td>98.260293</td>\n",
       "      <td>76.0</td>\n",
       "      <td>130.0</td>\n",
       "      <td>216.0</td>\n",
       "      <td>Yes</td>\n",
       "      <td>No</td>\n",
       "    </tr>\n",
       "    <tr>\n",
       "      <th>3</th>\n",
       "      <td>NaN</td>\n",
       "      <td>30.0</td>\n",
       "      <td>Male</td>\n",
       "      <td>182.112867</td>\n",
       "      <td>63.332207</td>\n",
       "      <td>B</td>\n",
       "      <td>19.096042</td>\n",
       "      <td>98.839605</td>\n",
       "      <td>99.0</td>\n",
       "      <td>112.0</td>\n",
       "      <td>141.0</td>\n",
       "      <td>No</td>\n",
       "      <td>Yes</td>\n",
       "    </tr>\n",
       "    <tr>\n",
       "      <th>4</th>\n",
       "      <td>5.0</td>\n",
       "      <td>23.0</td>\n",
       "      <td>Female</td>\n",
       "      <td>NaN</td>\n",
       "      <td>46.234173</td>\n",
       "      <td>O</td>\n",
       "      <td>NaN</td>\n",
       "      <td>98.480008</td>\n",
       "      <td>95.0</td>\n",
       "      <td>NaN</td>\n",
       "      <td>231.0</td>\n",
       "      <td>No</td>\n",
       "      <td>No</td>\n",
       "    </tr>\n",
       "  </tbody>\n",
       "</table>\n",
       "</div>"
      ],
      "text/plain": [
       "   Student ID   Age  Gender      Height     Weight  ... Heart Rate  Blood Pressure  Cholesterol  Diabetes  Smoking\n",
       "0         1.0  18.0  Female  161.777924  72.354947  ...       95.0           109.0        203.0        No      NaN\n",
       "1         2.0   NaN    Male  152.069157  47.630941  ...       93.0           104.0        163.0        No       No\n",
       "2         3.0  32.0  Female  182.537664  55.741083  ...       76.0           130.0        216.0       Yes       No\n",
       "3         NaN  30.0    Male  182.112867  63.332207  ...       99.0           112.0        141.0        No      Yes\n",
       "4         5.0  23.0  Female         NaN  46.234173  ...       95.0             NaN        231.0        No       No\n",
       "\n",
       "[5 rows x 13 columns]"
      ]
     },
     "execution_count": 2,
     "metadata": {},
     "output_type": "execute_result"
    }
   ],
   "source": [
    "data.head() #First 5 Row "
   ]
  },
  {
   "cell_type": "code",
   "execution_count": 9,
   "id": "fde0c95c",
   "metadata": {},
   "outputs": [
    {
     "data": {
      "text/plain": [
       "(200000, 13)"
      ]
     },
     "execution_count": 9,
     "metadata": {},
     "output_type": "execute_result"
    }
   ],
   "source": [
    "data.shape"
   ]
  },
  {
   "cell_type": "code",
   "execution_count": 4,
   "id": "c864a421",
   "metadata": {},
   "outputs": [
    {
     "data": {
      "text/plain": [
       "Index(['Student ID', 'Age', 'Gender', 'Height', 'Weight', 'Blood Type', 'BMI',\n",
       "       'Temperature', 'Heart Rate', 'Blood Pressure', 'Cholesterol',\n",
       "       'Diabetes', 'Smoking'],\n",
       "      dtype='object')"
      ]
     },
     "execution_count": 4,
     "metadata": {},
     "output_type": "execute_result"
    }
   ],
   "source": [
    "data.columns #Name of the columns "
   ]
  },
  {
   "cell_type": "code",
   "execution_count": 5,
   "id": "d6f4c043",
   "metadata": {},
   "outputs": [
    {
     "name": "stdout",
     "output_type": "stream",
     "text": [
      "<class 'pandas.core.frame.DataFrame'>\n",
      "RangeIndex: 200000 entries, 0 to 199999\n",
      "Data columns (total 13 columns):\n",
      " #   Column          Non-Null Count   Dtype  \n",
      "---  ------          --------------   -----  \n",
      " 0   Student ID      180000 non-null  float64\n",
      " 1   Age             180000 non-null  float64\n",
      " 2   Gender          180000 non-null  object \n",
      " 3   Height          180000 non-null  float64\n",
      " 4   Weight          180000 non-null  float64\n",
      " 5   Blood Type      180000 non-null  object \n",
      " 6   BMI             180000 non-null  float64\n",
      " 7   Temperature     180000 non-null  float64\n",
      " 8   Heart Rate      180000 non-null  float64\n",
      " 9   Blood Pressure  180000 non-null  float64\n",
      " 10  Cholesterol     180000 non-null  float64\n",
      " 11  Diabetes        180000 non-null  object \n",
      " 12  Smoking         180000 non-null  object \n",
      "dtypes: float64(9), object(4)\n",
      "memory usage: 19.8+ MB\n"
     ]
    }
   ],
   "source": [
    "data.info() #Information about the types of the data"
   ]
  },
  {
   "cell_type": "code",
   "execution_count": 6,
   "id": "67419af7",
   "metadata": {},
   "outputs": [
    {
     "data": {
      "text/html": [
       "<div>\n",
       "<style scoped>\n",
       "    .dataframe tbody tr th:only-of-type {\n",
       "        vertical-align: middle;\n",
       "    }\n",
       "\n",
       "    .dataframe tbody tr th {\n",
       "        vertical-align: top;\n",
       "    }\n",
       "\n",
       "    .dataframe thead th {\n",
       "        text-align: right;\n",
       "    }\n",
       "</style>\n",
       "<table border=\"1\" class=\"dataframe\">\n",
       "  <thead>\n",
       "    <tr style=\"text-align: right;\">\n",
       "      <th></th>\n",
       "      <th>Student ID</th>\n",
       "      <th>Age</th>\n",
       "      <th>Height</th>\n",
       "      <th>Weight</th>\n",
       "      <th>BMI</th>\n",
       "      <th>Temperature</th>\n",
       "      <th>Heart Rate</th>\n",
       "      <th>Blood Pressure</th>\n",
       "      <th>Cholesterol</th>\n",
       "    </tr>\n",
       "  </thead>\n",
       "  <tbody>\n",
       "    <tr>\n",
       "      <th>count</th>\n",
       "      <td>180000.000000</td>\n",
       "      <td>180000.000000</td>\n",
       "      <td>180000.000000</td>\n",
       "      <td>180000.000000</td>\n",
       "      <td>180000.000000</td>\n",
       "      <td>180000.000000</td>\n",
       "      <td>180000.000000</td>\n",
       "      <td>180000.000000</td>\n",
       "      <td>180000.000000</td>\n",
       "    </tr>\n",
       "    <tr>\n",
       "      <th>mean</th>\n",
       "      <td>49974.042078</td>\n",
       "      <td>26.021561</td>\n",
       "      <td>174.947103</td>\n",
       "      <td>69.971585</td>\n",
       "      <td>23.338869</td>\n",
       "      <td>98.600948</td>\n",
       "      <td>79.503767</td>\n",
       "      <td>114.558033</td>\n",
       "      <td>184.486361</td>\n",
       "    </tr>\n",
       "    <tr>\n",
       "      <th>std</th>\n",
       "      <td>28879.641657</td>\n",
       "      <td>4.890528</td>\n",
       "      <td>14.447560</td>\n",
       "      <td>17.322574</td>\n",
       "      <td>7.033554</td>\n",
       "      <td>0.500530</td>\n",
       "      <td>11.540755</td>\n",
       "      <td>14.403353</td>\n",
       "      <td>37.559678</td>\n",
       "    </tr>\n",
       "    <tr>\n",
       "      <th>min</th>\n",
       "      <td>1.000000</td>\n",
       "      <td>18.000000</td>\n",
       "      <td>150.000041</td>\n",
       "      <td>40.000578</td>\n",
       "      <td>10.074837</td>\n",
       "      <td>96.397835</td>\n",
       "      <td>60.000000</td>\n",
       "      <td>90.000000</td>\n",
       "      <td>120.000000</td>\n",
       "    </tr>\n",
       "    <tr>\n",
       "      <th>25%</th>\n",
       "      <td>24971.750000</td>\n",
       "      <td>22.000000</td>\n",
       "      <td>162.476110</td>\n",
       "      <td>54.969838</td>\n",
       "      <td>17.858396</td>\n",
       "      <td>98.264750</td>\n",
       "      <td>70.000000</td>\n",
       "      <td>102.000000</td>\n",
       "      <td>152.000000</td>\n",
       "    </tr>\n",
       "    <tr>\n",
       "      <th>50%</th>\n",
       "      <td>49943.500000</td>\n",
       "      <td>26.000000</td>\n",
       "      <td>174.899914</td>\n",
       "      <td>69.979384</td>\n",
       "      <td>22.671401</td>\n",
       "      <td>98.599654</td>\n",
       "      <td>80.000000</td>\n",
       "      <td>115.000000</td>\n",
       "      <td>184.000000</td>\n",
       "    </tr>\n",
       "    <tr>\n",
       "      <th>75%</th>\n",
       "      <td>74986.000000</td>\n",
       "      <td>30.000000</td>\n",
       "      <td>187.464417</td>\n",
       "      <td>84.980097</td>\n",
       "      <td>27.997487</td>\n",
       "      <td>98.940543</td>\n",
       "      <td>90.000000</td>\n",
       "      <td>127.000000</td>\n",
       "      <td>217.000000</td>\n",
       "    </tr>\n",
       "    <tr>\n",
       "      <th>max</th>\n",
       "      <td>100000.000000</td>\n",
       "      <td>34.000000</td>\n",
       "      <td>199.998639</td>\n",
       "      <td>99.999907</td>\n",
       "      <td>44.355113</td>\n",
       "      <td>100.824857</td>\n",
       "      <td>99.000000</td>\n",
       "      <td>139.000000</td>\n",
       "      <td>249.000000</td>\n",
       "    </tr>\n",
       "  </tbody>\n",
       "</table>\n",
       "</div>"
      ],
      "text/plain": [
       "          Student ID            Age         Height  ...     Heart Rate  Blood Pressure    Cholesterol\n",
       "count  180000.000000  180000.000000  180000.000000  ...  180000.000000   180000.000000  180000.000000\n",
       "mean    49974.042078      26.021561     174.947103  ...      79.503767      114.558033     184.486361\n",
       "std     28879.641657       4.890528      14.447560  ...      11.540755       14.403353      37.559678\n",
       "min         1.000000      18.000000     150.000041  ...      60.000000       90.000000     120.000000\n",
       "25%     24971.750000      22.000000     162.476110  ...      70.000000      102.000000     152.000000\n",
       "50%     49943.500000      26.000000     174.899914  ...      80.000000      115.000000     184.000000\n",
       "75%     74986.000000      30.000000     187.464417  ...      90.000000      127.000000     217.000000\n",
       "max    100000.000000      34.000000     199.998639  ...      99.000000      139.000000     249.000000\n",
       "\n",
       "[8 rows x 9 columns]"
      ]
     },
     "execution_count": 6,
     "metadata": {},
     "output_type": "execute_result"
    }
   ],
   "source": [
    "data.describe() #Short description about the data"
   ]
  },
  {
   "cell_type": "code",
   "execution_count": 11,
   "id": "6535d689",
   "metadata": {},
   "outputs": [
    {
     "data": {
      "text/html": [
       "<div>\n",
       "<style scoped>\n",
       "    .dataframe tbody tr th:only-of-type {\n",
       "        vertical-align: middle;\n",
       "    }\n",
       "\n",
       "    .dataframe tbody tr th {\n",
       "        vertical-align: top;\n",
       "    }\n",
       "\n",
       "    .dataframe thead th {\n",
       "        text-align: right;\n",
       "    }\n",
       "</style>\n",
       "<table border=\"1\" class=\"dataframe\">\n",
       "  <thead>\n",
       "    <tr style=\"text-align: right;\">\n",
       "      <th></th>\n",
       "      <th>Age</th>\n",
       "      <th>Gender</th>\n",
       "    </tr>\n",
       "  </thead>\n",
       "  <tbody>\n",
       "    <tr>\n",
       "      <th>0</th>\n",
       "      <td>18.0</td>\n",
       "      <td>Female</td>\n",
       "    </tr>\n",
       "    <tr>\n",
       "      <th>1</th>\n",
       "      <td>NaN</td>\n",
       "      <td>Male</td>\n",
       "    </tr>\n",
       "    <tr>\n",
       "      <th>2</th>\n",
       "      <td>32.0</td>\n",
       "      <td>Female</td>\n",
       "    </tr>\n",
       "    <tr>\n",
       "      <th>3</th>\n",
       "      <td>30.0</td>\n",
       "      <td>Male</td>\n",
       "    </tr>\n",
       "    <tr>\n",
       "      <th>4</th>\n",
       "      <td>23.0</td>\n",
       "      <td>Female</td>\n",
       "    </tr>\n",
       "    <tr>\n",
       "      <th>...</th>\n",
       "      <td>...</td>\n",
       "      <td>...</td>\n",
       "    </tr>\n",
       "    <tr>\n",
       "      <th>199995</th>\n",
       "      <td>24.0</td>\n",
       "      <td>Male</td>\n",
       "    </tr>\n",
       "    <tr>\n",
       "      <th>199996</th>\n",
       "      <td>29.0</td>\n",
       "      <td>Female</td>\n",
       "    </tr>\n",
       "    <tr>\n",
       "      <th>199997</th>\n",
       "      <td>34.0</td>\n",
       "      <td>Female</td>\n",
       "    </tr>\n",
       "    <tr>\n",
       "      <th>199998</th>\n",
       "      <td>30.0</td>\n",
       "      <td>Female</td>\n",
       "    </tr>\n",
       "    <tr>\n",
       "      <th>199999</th>\n",
       "      <td>20.0</td>\n",
       "      <td>Female</td>\n",
       "    </tr>\n",
       "  </tbody>\n",
       "</table>\n",
       "<p>200000 rows × 2 columns</p>\n",
       "</div>"
      ],
      "text/plain": [
       "         Age  Gender\n",
       "0       18.0  Female\n",
       "1        NaN    Male\n",
       "2       32.0  Female\n",
       "3       30.0    Male\n",
       "4       23.0  Female\n",
       "...      ...     ...\n",
       "199995  24.0    Male\n",
       "199996  29.0  Female\n",
       "199997  34.0  Female\n",
       "199998  30.0  Female\n",
       "199999  20.0  Female\n",
       "\n",
       "[200000 rows x 2 columns]"
      ]
     },
     "execution_count": 11,
     "metadata": {},
     "output_type": "execute_result"
    }
   ],
   "source": [
    "df1=data[['Age','Gender']] # Separate the Age and gender column\n",
    "df1"
   ]
  },
  {
   "cell_type": "code",
   "execution_count": 13,
   "id": "24e33e46",
   "metadata": {},
   "outputs": [
    {
     "data": {
      "text/plain": [
       "Gender\n",
       "Male      90005\n",
       "Female    89995\n",
       "Name: count, dtype: int64"
      ]
     },
     "execution_count": 13,
     "metadata": {},
     "output_type": "execute_result"
    }
   ],
   "source": [
    "Gender_Count=df1[\"Gender\"].value_counts() #We calculate the number of male and female\n",
    "Gender_Count"
   ]
  },
  {
   "cell_type": "code",
   "execution_count": 20,
   "id": "662da710",
   "metadata": {},
   "outputs": [
    {
     "data": {
      "text/plain": [
       "Age       20000\n",
       "Gender    20000\n",
       "dtype: int64"
      ]
     },
     "execution_count": 20,
     "metadata": {},
     "output_type": "execute_result"
    }
   ],
   "source": [
    "df1.isnull().sum()"
   ]
  },
  {
   "cell_type": "code",
   "execution_count": 22,
   "id": "ac293249",
   "metadata": {},
   "outputs": [
    {
     "data": {
      "text/plain": [
       "26.02156111111111"
      ]
     },
     "execution_count": 22,
     "metadata": {},
     "output_type": "execute_result"
    }
   ],
   "source": [
    "average_value = df1['Age'].mean() # Average value of the Age column\n",
    "average_value"
   ]
  },
  {
   "cell_type": "code",
   "execution_count": 23,
   "id": "b2165d5b",
   "metadata": {},
   "outputs": [
    {
     "name": "stderr",
     "output_type": "stream",
     "text": [
      "C:\\Users\\91740\\AppData\\Local\\Temp\\ipykernel_16884\\3999805318.py:2: SettingWithCopyWarning: \n",
      "A value is trying to be set on a copy of a slice from a DataFrame\n",
      "\n",
      "See the caveats in the documentation: https://pandas.pydata.org/pandas-docs/stable/user_guide/indexing.html#returning-a-view-versus-a-copy\n",
      "  df1['Age'].fillna(average_value, inplace=True)\n"
     ]
    },
    {
     "data": {
      "text/html": [
       "<div>\n",
       "<style scoped>\n",
       "    .dataframe tbody tr th:only-of-type {\n",
       "        vertical-align: middle;\n",
       "    }\n",
       "\n",
       "    .dataframe tbody tr th {\n",
       "        vertical-align: top;\n",
       "    }\n",
       "\n",
       "    .dataframe thead th {\n",
       "        text-align: right;\n",
       "    }\n",
       "</style>\n",
       "<table border=\"1\" class=\"dataframe\">\n",
       "  <thead>\n",
       "    <tr style=\"text-align: right;\">\n",
       "      <th></th>\n",
       "      <th>Age</th>\n",
       "      <th>Gender</th>\n",
       "    </tr>\n",
       "  </thead>\n",
       "  <tbody>\n",
       "    <tr>\n",
       "      <th>0</th>\n",
       "      <td>18.000000</td>\n",
       "      <td>Female</td>\n",
       "    </tr>\n",
       "    <tr>\n",
       "      <th>1</th>\n",
       "      <td>26.021561</td>\n",
       "      <td>Male</td>\n",
       "    </tr>\n",
       "    <tr>\n",
       "      <th>2</th>\n",
       "      <td>32.000000</td>\n",
       "      <td>Female</td>\n",
       "    </tr>\n",
       "    <tr>\n",
       "      <th>3</th>\n",
       "      <td>30.000000</td>\n",
       "      <td>Male</td>\n",
       "    </tr>\n",
       "    <tr>\n",
       "      <th>4</th>\n",
       "      <td>23.000000</td>\n",
       "      <td>Female</td>\n",
       "    </tr>\n",
       "    <tr>\n",
       "      <th>...</th>\n",
       "      <td>...</td>\n",
       "      <td>...</td>\n",
       "    </tr>\n",
       "    <tr>\n",
       "      <th>199995</th>\n",
       "      <td>24.000000</td>\n",
       "      <td>Male</td>\n",
       "    </tr>\n",
       "    <tr>\n",
       "      <th>199996</th>\n",
       "      <td>29.000000</td>\n",
       "      <td>Female</td>\n",
       "    </tr>\n",
       "    <tr>\n",
       "      <th>199997</th>\n",
       "      <td>34.000000</td>\n",
       "      <td>Female</td>\n",
       "    </tr>\n",
       "    <tr>\n",
       "      <th>199998</th>\n",
       "      <td>30.000000</td>\n",
       "      <td>Female</td>\n",
       "    </tr>\n",
       "    <tr>\n",
       "      <th>199999</th>\n",
       "      <td>20.000000</td>\n",
       "      <td>Female</td>\n",
       "    </tr>\n",
       "  </tbody>\n",
       "</table>\n",
       "<p>200000 rows × 2 columns</p>\n",
       "</div>"
      ],
      "text/plain": [
       "              Age  Gender\n",
       "0       18.000000  Female\n",
       "1       26.021561    Male\n",
       "2       32.000000  Female\n",
       "3       30.000000    Male\n",
       "4       23.000000  Female\n",
       "...           ...     ...\n",
       "199995  24.000000    Male\n",
       "199996  29.000000  Female\n",
       "199997  34.000000  Female\n",
       "199998  30.000000  Female\n",
       "199999  20.000000  Female\n",
       "\n",
       "[200000 rows x 2 columns]"
      ]
     },
     "execution_count": 23,
     "metadata": {},
     "output_type": "execute_result"
    }
   ],
   "source": [
    "# Replace null values with the calculated average\n",
    "df1['Age'].fillna(average_value, inplace=True)\n",
    "# Display the updated DataFrame\n",
    "df1"
   ]
  },
  {
   "cell_type": "code",
   "execution_count": 25,
   "id": "72a4f053",
   "metadata": {},
   "outputs": [
    {
     "data": {
      "text/plain": [
       "Text(0.5, 1.0, 'Bar diagram of the corresponding gender in a population')"
      ]
     },
     "execution_count": 25,
     "metadata": {},
     "output_type": "execute_result"
    },
    {
     "data": {
      "image/png": "[encoded data removed]",
      "text/plain": [
       "<Figure size 1000x600 with 1 Axes>"
      ]
     },
     "metadata": {},
     "output_type": "display_data"
    }
   ],
   "source": [
    "plt.figure(figsize=(10,6))\n",
    "Gender_Count.plot(kind=\"bar\",color=[\"skyblue\",\"pink\"])\n",
    "plt.xlabel(\"Gender\")\n",
    "plt.ylabel(\"Number of Student\")\n",
    "plt.title(\"Bar diagram of the corresponding gender in a population\")"
   ]
  },
  {
   "cell_type": "code",
   "execution_count": 31,
   "id": "ab9856cc",
   "metadata": {},
   "outputs": [
    {
     "data": {
      "text/plain": [
       "0         18.000000\n",
       "1         26.021561\n",
       "2         32.000000\n",
       "3         30.000000\n",
       "4         23.000000\n",
       "            ...    \n",
       "199995    24.000000\n",
       "199996    29.000000\n",
       "199997    34.000000\n",
       "199998    30.000000\n",
       "199999    20.000000\n",
       "Name: Age, Length: 200000, dtype: float64"
      ]
     },
     "execution_count": 31,
     "metadata": {},
     "output_type": "execute_result"
    }
   ],
   "source": [
    "df2=df1['Age'] #We separate the age column\n",
    "df2"
   ]
  },
  {
   "cell_type": "code",
   "execution_count": 32,
   "id": "3200b316",
   "metadata": {},
   "outputs": [
    {
     "data": {
      "text/plain": [
       "18.0"
      ]
     },
     "execution_count": 32,
     "metadata": {},
     "output_type": "execute_result"
    }
   ],
   "source": [
    "df2.min() #Checking the minimum value of the Age "
   ]
  },
  {
   "cell_type": "code",
   "execution_count": 33,
   "id": "8e2f8b98",
   "metadata": {},
   "outputs": [
    {
     "data": {
      "text/plain": [
       "34.0"
      ]
     },
     "execution_count": 33,
     "metadata": {},
     "output_type": "execute_result"
    }
   ],
   "source": [
    "df2.max() #Checking the maximum value of the Age"
   ]
  },
  {
   "cell_type": "code",
   "execution_count": 39,
   "id": "2b55c847",
   "metadata": {},
   "outputs": [
    {
     "data": {
      "image/png": "[encoded data removed]",
      "text/plain": [
       "<Figure size 640x480 with 1 Axes>"
      ]
     },
     "metadata": {},
     "output_type": "display_data"
    }
   ],
   "source": [
    "import matplotlib.pyplot as plt\n",
    "import numpy as np  # Import numpy for histogram binning\n",
    "\n",
    "# Assuming df2 is a pandas DataFrame or Series containing numerical data\n",
    "\n",
    "# Ensure numerical data type for min and max values\n",
    "min_value = np.floor(df2.min())  # Round down to nearest integer using np.floor\n",
    "max_value = np.ceil(df2.max())   # Round up to nearest integer using np.ceil\n",
    "\n",
    "# Create bins using the integer min and max values\n",
    "bins = np.arange(min_value, max_value + 1)  # Use np.arange for inclusive range\n",
    "\n",
    "# Create the histogram\n",
    "plt.hist(df2, bins=bins, edgecolor='black')\n",
    "\n",
    "# Add labels and title (assuming you still want these)\n",
    "plt.xlabel('Value')\n",
    "plt.ylabel('Frequency')  # Add y-axis label for clarity\n",
    "plt.title('Histogram of df2')  # Add title for better visualization (optional)\n",
    "\n",
    "plt.show()  # Display the histogram\n"
   ]
  }
 ],
 "metadata": {
  "kernelspec": {
   "display_name": "Python 3 (ipykernel)",
   "language": "python",
   "name": "python3"
  },
  "language_info": {
   "codemirror_mode": {
    "name": "ipython",
    "version": 3
   },
   "file_extension": ".py",
   "mimetype": "text/x-python",
   "name": "python",
   "nbconvert_exporter": "python",
   "pygments_lexer": "ipython3",
   "version": "3.11.5"
  },
  "varInspector": {
   "cols": {
    "lenName": 16,
    "lenType": 16,
    "lenVar": 40
   },
   "kernels_config": {
    "python": {
     "delete_cmd_postfix": "",
     "delete_cmd_prefix": "del ",
     "library": "var_list.py",
     "varRefreshCmd": "print(var_dic_list())"
    },
    "r": {
     "delete_cmd_postfix": ") ",
     "delete_cmd_prefix": "rm(",
     "library": "var_list.r",
     "varRefreshCmd": "cat(var_dic_list()) "
    }
   },
   "types_to_exclude": [
    "module",
    "function",
    "builtin_function_or_method",
    "instance",
    "_Feature"
   ],
   "window_display": false
  }
 },
 "nbformat": 4,
 "nbformat_minor": 5
}
